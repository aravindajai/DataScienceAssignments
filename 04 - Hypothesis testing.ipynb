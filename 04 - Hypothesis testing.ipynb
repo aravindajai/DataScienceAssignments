{
 "cells": [
  {
   "cell_type": "code",
   "execution_count": 1,
   "metadata": {
    "id": "IL7tLcixYZOS"
   },
   "outputs": [],
   "source": [
    "import numpy as np\n",
    "import scipy.stats as stats\n"
   ]
  },
  {
   "cell_type": "markdown",
   "metadata": {
    "id": "Z2Q13IPRa-5P"
   },
   "source": [
    "### Hypotheses\n",
    "- Null Hypothesis (H0): The mean weekly operating cost is equal to the theoretical cost, i.e., mean = 4000.\n",
    "- Alternative Hypothesis (H1): The mean weekly operating cost is greater than the theoretical cost, i.e., mean > 4000.\n",
    "\n",
    "\n"
   ]
  },
  {
   "cell_type": "code",
   "execution_count": 4,
   "metadata": {},
   "outputs": [
    {
     "name": "stdout",
     "output_type": "stream",
     "text": [
      "Hypothesis Testing for Weekly Operating Costs\n",
      "\n",
      "Theoretical Mean Weekly Cost: 4000\n",
      "\n",
      "Sample Mean Weekly Cost: 3050\n",
      "\n",
      "Sample Size: 25\n",
      "\n",
      "Standard Deviation of Weekly Operating Cost: 125\n",
      "\n",
      "Test Statistic (t): -38.0\n",
      "\n",
      "Critical Value at alpha={alpha}: 1.6448536269514722\n",
      "\n",
      "Reject the null hypothesis: False\n"
     ]
    }
   ],
   "source": [
    "sample_mean = 3050 \n",
    "theoretical_mean = 1000 + 5 * 600  \n",
    "std_dev_X = 25 \n",
    "n = 25  \n",
    "alpha = 0.05 \n",
    "\n",
    "# 2. Calculate the Test Statistic:\n",
    "std_dev_W = 5 * std_dev_X\n",
    "t_stat = (sample_mean - theoretical_mean) / (std_dev_W / np.sqrt(n))\n",
    "\n",
    "# 3. Determine the Critical Value:\n",
    "critical_value = stats.norm.ppf(1 - alpha)\n",
    "\n",
    "# 4. Make a Decision:\n",
    "z_critical = t_stat > critical_value\n",
    "\n",
    "\n",
    "print(\"Hypothesis Testing for Weekly Operating Costs\")\n",
    "print(\"\\nTheoretical Mean Weekly Cost:\",theoretical_mean)\n",
    "print(\"\\nSample Mean Weekly Cost:\",sample_mean)\n",
    "print(\"\\nSample Size:\",n)\n",
    "print(\"\\nStandard Deviation of Weekly Operating Cost:\",std_dev_W)\n",
    "print(\"\\nTest Statistic (t):\",t_stat)\n",
    "print(\"\\nCritical Value at alpha={alpha}:\",critical_value)\n",
    "print(\"\\nReject the null hypothesis:\",reject_null)"
   ]
  },
  {
   "cell_type": "code",
   "execution_count": 6,
   "metadata": {
    "colab": {
     "base_uri": "https://localhost:8080/"
    },
    "id": "fjQdUCb1bySe",
    "outputId": "24da1303-ab16-4f82-f20a-59940bb52f57"
   },
   "outputs": [
    {
     "name": "stdout",
     "output_type": "stream",
     "text": [
      "Fail to reject the null hypothesis: There is not enough evidence to support the claim that weekly operating costs are higher.\n"
     ]
    }
   ],
   "source": [
    "# Decision making\n",
    "if t_stat > z_critical:\n",
    "    print(\"Reject the null hypothesis: There is evidence to support the claim that weekly operating costs are higher.\")\n",
    "else:\n",
    "    print(\"Fail to reject the null hypothesis: There is not enough evidence to support the claim that weekly operating costs are higher.\")\n"
   ]
  },
  {
   "cell_type": "code",
   "execution_count": null,
   "metadata": {},
   "outputs": [],
   "source": []
  }
 ],
 "metadata": {
  "colab": {
   "provenance": []
  },
  "kernelspec": {
   "display_name": "Python 3 (ipykernel)",
   "language": "python",
   "name": "python3"
  },
  "language_info": {
   "codemirror_mode": {
    "name": "ipython",
    "version": 3
   },
   "file_extension": ".py",
   "mimetype": "text/x-python",
   "name": "python",
   "nbconvert_exporter": "python",
   "pygments_lexer": "ipython3",
   "version": "3.11.5"
  }
 },
 "nbformat": 4,
 "nbformat_minor": 1
}
