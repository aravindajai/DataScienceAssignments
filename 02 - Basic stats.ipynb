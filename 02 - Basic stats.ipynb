{
 "cells": [
  {
   "cell_type": "code",
   "execution_count": 2,
   "id": "6ebee121",
   "metadata": {},
   "outputs": [],
   "source": [
    "# Import necessary libraries\n",
    "import numpy as np\n",
    "import scipy.stats as stats"
   ]
  },
  {
   "cell_type": "code",
   "execution_count": 3,
   "id": "5150d7ee",
   "metadata": {},
   "outputs": [],
   "source": [
    "# Data: Durability of print-heads in millions of characters\n",
    "durability = np.array([1.13, 1.55, 1.43, 0.92, 1.25, 1.36, 1.32, 0.85, 1.07, 1.48, \n",
    "                       1.20, 1.33, 1.18, 1.22, 1.29])\n"
   ]
  },
  {
   "cell_type": "code",
   "execution_count": 4,
   "id": "2299e0ec",
   "metadata": {},
   "outputs": [
    {
     "name": "stdout",
     "output_type": "stream",
     "text": [
      "Sample Mean=1.2386666666666666\n"
     ]
    }
   ],
   "source": [
    "# Calculate the sample mean\n",
    "mean_durability = np.mean(durability)\n",
    "print(f\"Sample Mean={mean_durability}\")"
   ]
  },
  {
   "cell_type": "code",
   "execution_count": 5,
   "id": "e074be44",
   "metadata": {},
   "outputs": [
    {
     "name": "stdout",
     "output_type": "stream",
     "text": [
      "Sample Standard Deviation=0.19316412956959936\n"
     ]
    }
   ],
   "source": [
    "# Calculate the sample standard deviation\n",
    "std_dev_sample = np.std(durability, ddof=1)\n",
    "print(f\"Sample Standard Deviation={std_dev_sample}\")"
   ]
  },
  {
   "cell_type": "code",
   "execution_count": 6,
   "id": "f6e90de4",
   "metadata": {},
   "outputs": [
    {
     "name": "stdout",
     "output_type": "stream",
     "text": [
      "Standard Error=0.04987476379384733\n",
      "t-Critical value  for a 99% confidence interval= 2.97684273411266\n"
     ]
    }
   ],
   "source": [
    "# Calculate the standard error of the mean\n",
    "n = len(durability)\n",
    "se = std_dev_sample / np.sqrt(n)\n",
    "print(f\"Standard Error={se}\")\n",
    "# Calculate the t-critical value for a 99% confidence interval\n",
    "t_critical = stats.t.ppf(0.995, df=n-1)  # 0.995 because we want 99% confidence interval\n",
    "print(f\"t-Critical value  for a 99% confidence interval= {t_critical}\")"
   ]
  },
  {
   "cell_type": "code",
   "execution_count": 7,
   "id": "3923ff1a",
   "metadata": {},
   "outputs": [
    {
     "name": "stdout",
     "output_type": "stream",
     "text": [
      "Margin of error=0.1484693282152996\n"
     ]
    }
   ],
   "source": [
    "# Calculate the margin of error\n",
    "margin_of_error = t_critical * se\n",
    "print(f\"Margin of error={margin_of_error}\")\n"
   ]
  },
  {
   "cell_type": "code",
   "execution_count": 8,
   "id": "735bf0a3",
   "metadata": {},
   "outputs": [
    {
     "name": "stdout",
     "output_type": "stream",
     "text": [
      "Confidence Interval : (1.090197338451367, 1.3871359948819662)\n"
     ]
    }
   ],
   "source": [
    "# Calculate the confidence interval\n",
    "confidence_interval = (mean_durability - margin_of_error, mean_durability + margin_of_error)\n",
    "print(\"Confidence Interval :\",confidence_interval)"
   ]
  },
  {
   "cell_type": "code",
   "execution_count": 9,
   "id": "a6f07f99",
   "metadata": {},
   "outputs": [
    {
     "name": "stdout",
     "output_type": "stream",
     "text": [
      "STD Error Using Population STD Deviation: 0.051639777949432225\n"
     ]
    }
   ],
   "source": [
    "# Known population standard deviation\n",
    "std_dev_population = 0.2\n",
    "# Calculate the standard error using population standard deviation\n",
    "se_population = std_dev_population / np.sqrt(n)\n",
    "print(\"STD Error Using Population STD Deviation:\",se_population)"
   ]
  },
  {
   "cell_type": "code",
   "execution_count": 11,
   "id": "f4d0e612",
   "metadata": {},
   "outputs": [
    {
     "name": "stdout",
     "output_type": "stream",
     "text": [
      "Z-Critical Vvalue at 99% confidence interval: 2.5758293035489004\n"
     ]
    }
   ],
   "source": [
    "# Calculate the z-critical value for a 99% confidence interval\n",
    "z_critical = stats.norm.ppf(0.995)  # 0.995 because we want 99% confidence interval\n",
    "print(\"Z-Critical Vvalue at 99% confidence interval:\",z_critical)"
   ]
  },
  {
   "cell_type": "code",
   "execution_count": 12,
   "id": "ffa17466",
   "metadata": {},
   "outputs": [
    {
     "name": "stdout",
     "output_type": "stream",
     "text": [
      "Margin of Error: 0.13301525327090588\n"
     ]
    }
   ],
   "source": [
    "# Calculate the margin of error\n",
    "margin_of_error_population = z_critical * se_population\n",
    "print(\"Margin of Error:\",margin_of_error_population)\n"
   ]
  },
  {
   "cell_type": "code",
   "execution_count": 13,
   "id": "135d69c2",
   "metadata": {},
   "outputs": [
    {
     "name": "stdout",
     "output_type": "stream",
     "text": [
      "Confidence Interval Population: (1.1056514133957607, 1.3716819199375725)\n"
     ]
    }
   ],
   "source": [
    "# Calculate the confidence interval\n",
    "confidence_interval_population = (mean_durability - margin_of_error_population, mean_durability + margin_of_error_population)\n",
    "print(\"Confidence Interval Population:\",confidence_interval_population)\n"
   ]
  },
  {
   "cell_type": "code",
   "execution_count": null,
   "id": "d02ef1e9",
   "metadata": {},
   "outputs": [],
   "source": []
  }
 ],
 "metadata": {
  "kernelspec": {
   "display_name": "Python 3 (ipykernel)",
   "language": "python",
   "name": "python3"
  },
  "language_info": {
   "codemirror_mode": {
    "name": "ipython",
    "version": 3
   },
   "file_extension": ".py",
   "mimetype": "text/x-python",
   "name": "python",
   "nbconvert_exporter": "python",
   "pygments_lexer": "ipython3",
   "version": "3.12.3"
  }
 },
 "nbformat": 4,
 "nbformat_minor": 5
}
